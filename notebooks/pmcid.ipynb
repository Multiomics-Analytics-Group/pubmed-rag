{
 "cells": [
  {
   "cell_type": "markdown",
   "metadata": {},
   "source": [
    "Purpose of this notebook is to get full text articles from PMC"
   ]
  },
  {
   "cell_type": "code",
   "execution_count": 17,
   "metadata": {},
   "outputs": [],
   "source": [
    "# imports\n",
    "import numpy as np \n",
    "import pandas as pd \n",
    "import matplotlib.pyplot as plt \n",
    "import os, json\n",
    "import requests\n",
    "import time\n",
    "\n",
    "import sys\n",
    "sys.path.append('../pubmed_rag')\n",
    "\n",
    "from bioc import get_biocjson, passages_to_df\n",
    "\n",
    "# import nltk\n",
    "# from nltk.stem import WordNetLemmatizer\n",
    "# nltk.download('wordnet')\n",
    "\n",
    "#from spellchecker import SpellChecker"
   ]
  },
  {
   "cell_type": "code",
   "execution_count": 9,
   "metadata": {},
   "outputs": [],
   "source": [
    "df = pd.read_csv('data/test_pmid_list.csv', header=None)\n",
    "df.head()\n",
    "\n",
    "pmids = df[0].astype(str).to_list()"
   ]
  },
  {
   "cell_type": "markdown",
   "metadata": {},
   "source": [
    "### Current status \n",
    "\n",
    "Getting full texts via biocjson from [Pubtator](https://www.ncbi.nlm.nih.gov/research/pubtator3/api) instead of [BioC API for PMC](https://www.ncbi.nlm.nih.gov/research/bionlp/APIs/BioC-PMC/)\n",
    "\n",
    "Why?? \n",
    "- I only have pmids currently, and Pubtator automatically links pmid to pmcid to return full text if it is available, otherwise returns abstract.\n",
    "- BioC API for PMC is not compatible with pmid id even though it says it does\n",
    "\n",
    "Bioc files\n",
    "- it looks like each 'passage' is a sentence\n",
    "- and the passages have annotations \n",
    "- additionally, relevant to us, the passage has metadata such as what section its from\n",
    "\n",
    "\n",
    "Steps\n",
    "- config\n",
    "    - provide list of pmids \n",
    "    - output path\n",
    "- retrieve biocjson (full text or abstract) and save to output path\n",
    "- for each json parse for text + section\n",
    "\n",
    "Vertex database of sentences or sections?\n",
    "Option 1:\n",
    "- embedd each sentence using [PubMedBERT now called BiomedBERT](https://huggingface.co/microsoft/BiomedNLP-BiomedBERT-base-uncased-abstract-fulltext)\n",
    "- keeping metadata\n",
    "\n",
    "Option 2:\n",
    "- collapse the sentences into one section \n",
    "- embed each section using same model\n",
    "\n",
    "\n"
   ]
  },
  {
   "cell_type": "code",
   "execution_count": 18,
   "metadata": {},
   "outputs": [],
   "source": [
    "# Example usage\n",
    "sample = pmids[:15]\n"
   ]
  },
  {
   "cell_type": "code",
   "execution_count": 19,
   "metadata": {},
   "outputs": [],
   "source": [
    "for each in sample:\n",
    "    \n",
    "    result = get_biocjson(each, 'biocjson')\n",
    "\n",
    "    if result is not None:\n",
    "        passages_to_df(result, 'biocjson')\n",
    "\n",
    "    time.sleep(2)"
   ]
  },
  {
   "cell_type": "code",
   "execution_count": null,
   "metadata": {},
   "outputs": [],
   "source": []
  }
 ],
 "metadata": {
  "kernelspec": {
   "display_name": "bkg-review-FcnO91kN-py3.11",
   "language": "python",
   "name": "python3"
  },
  "language_info": {
   "codemirror_mode": {
    "name": "ipython",
    "version": 3
   },
   "file_extension": ".py",
   "mimetype": "text/x-python",
   "name": "python",
   "nbconvert_exporter": "python",
   "pygments_lexer": "ipython3",
   "version": "3.11.0"
  }
 },
 "nbformat": 4,
 "nbformat_minor": 2
}
