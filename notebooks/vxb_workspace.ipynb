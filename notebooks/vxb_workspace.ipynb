{
 "cells": [
  {
   "cell_type": "code",
   "execution_count": 1,
   "metadata": {},
   "outputs": [],
   "source": [
    "import pandas as pd\n",
    "import numpy as np\n",
    "import matplotlib.pyplot as plt\n",
    "from ast import literal_eval\n",
    "import os, sys\n",
    "from pymilvus import MilvusClient\n",
    "sys.path.append('../pubmed_rag')\n",
    "from utils import config_loader\n",
    "from transformers import AutoTokenizer, AutoModel\n",
    "import torch\n",
    "import torch.nn.functional as F\n",
    "# from model import (\n",
    "#     mean_pooling\n",
    "# )\n"
   ]
  },
  {
   "cell_type": "markdown",
   "metadata": {},
   "source": [
    "Using this notebook to develop the prompt for Llama3.1. \n",
    "\n",
    "Requires that the DB already made."
   ]
  },
  {
   "cell_type": "code",
   "execution_count": 1,
   "metadata": {},
   "outputs": [],
   "source": [
    "vector_query = '''\n",
    "what nodes and edges should be used for a knowledge graph about the gut microbiome?\n",
    "'''\n",
    "path_config = '/users/anglup/GitHub/pubmed-rag/config.yaml'\n",
    "path_to_repo = '/users/anglup/github/pubmed-rag'"
   ]
  },
  {
   "cell_type": "code",
   "execution_count": 2,
   "metadata": {},
   "outputs": [
    {
     "name": "stdout",
     "output_type": "stream",
     "text": [
      "[2024-10-08 13:37:40,708] root: INFO - Path to log file: logs/2024108_133740_run_search.log\n",
      "[2024-10-08 13:37:40,708] root: INFO - Path to config file: /users/anglup/GitHub/pubmed-rag/config.yaml\n",
      "[2024-10-08 13:37:40,708] root: INFO - Loading config params ... \n",
      "[2024-10-08 13:37:40,709] root: INFO - Configuration: {'pmid file path': 'notebooks/data/test_pmid_list.csv', 'biocjson output path': 'biocjson', 'max_tokens': 300, 'transformer_model': 'microsoft/BiomedNLP-PubMedBERT-base-uncased-abstract-fulltext', 'db name': '/users/anglup/github/pubmed-rag/demo.db', 'tsne': 'tsne.png', 'n_results': 10}\n",
      "[2024-10-08 13:37:40,709] root: INFO - Accessing /users/anglup/github/pubmed-rag/demo.db\n",
      "[2024-10-08 13:37:40,710] pymilvus.orm.connections: INFO - Pass in the local path /users/anglup/github/pubmed-rag/demo.db, and run it using milvus-lite\n",
      "[2024-10-08 13:37:41,740] pymilvus.milvus_client.milvus_client: DEBUG - Created new connection using: 0cc013d73964497f9688b80ab826210a\n",
      "[2024-10-08 13:37:41,740] root: INFO - Loading model microsoft/BiomedNLP-PubMedBERT-base-uncased-abstract-fulltext from HuggingFace\n",
      "[2024-10-08 13:37:41,784] urllib3.connectionpool: DEBUG - Starting new HTTPS connection (1): huggingface.co:443\n",
      "[2024-10-08 13:37:41,996] urllib3.connectionpool: DEBUG - https://huggingface.co:443 \"HEAD /microsoft/BiomedNLP-PubMedBERT-base-uncased-abstract-fulltext/resolve/main/tokenizer_config.json HTTP/11\" 307 0\n",
      "[2024-10-08 13:37:42,125] urllib3.connectionpool: DEBUG - https://huggingface.co:443 \"HEAD /microsoft/BiomedNLP-BiomedBERT-base-uncased-abstract-fulltext/resolve/main/tokenizer_config.json HTTP/11\" 200 0\n",
      "/Users/anglup/Library/Caches/pypoetry/virtualenvs/pubmed-rag-iB5Z1S4t-py3.11/lib/python3.11/site-packages/transformers/tokenization_utils_base.py:1601: FutureWarning: `clean_up_tokenization_spaces` was not set. It will be set to `True` by default. This behavior will be depracted in transformers v4.45, and will be then set to `False` by default. For more details check this issue: https://github.com/huggingface/transformers/issues/31884\n",
      "  warnings.warn(\n",
      "[2024-10-08 13:37:42,311] urllib3.connectionpool: DEBUG - https://huggingface.co:443 \"HEAD /microsoft/BiomedNLP-PubMedBERT-base-uncased-abstract-fulltext/resolve/main/config.json HTTP/11\" 307 0\n",
      "[2024-10-08 13:37:42,447] urllib3.connectionpool: DEBUG - https://huggingface.co:443 \"HEAD /microsoft/BiomedNLP-BiomedBERT-base-uncased-abstract-fulltext/resolve/main/config.json HTTP/11\" 200 0\n",
      "[2024-10-08 13:37:43,197] urllib3.connectionpool: DEBUG - https://huggingface.co:443 \"HEAD /microsoft/BiomedNLP-PubMedBERT-base-uncased-abstract-fulltext/resolve/main/model.safetensors HTTP/11\" 307 0\n",
      "[2024-10-08 13:37:43,511] root: INFO - Embedding query: \n",
      "what nodes and edges should be used for a knowledge graph about the gut microbiome?\n",
      "\n",
      "[2024-10-08 13:37:43,858] root: INFO - Searching against vector database\n",
      "[2024-10-08 13:37:44,090] root: INFO - Query: \n",
      "what nodes and edges should be used for a knowledge graph about the gut microbiome?\n",
      "\n",
      "[2024-10-08 13:37:44,090] root: INFO - Results:\n",
      "[2024-10-08 13:37:44,090] root: INFO - {\n",
      "    \"id\": 1011,\n",
      "    \"distance\": 0.9812421202659607,\n",
      "    \"entity\": {\n",
      "        \"section\": \"discuss\",\n",
      "        \"pmid\": 36258252,\n",
      "        \"text\": \"This pattern suggests a focus on label function construction and generative model training may be key steps to focus on in future work . Although we found that label functions cannot be re-used across all edge types with the standard task framing, strategies like multitask or transfer learning may make multi-label-function efforts more successful.\"\n",
      "    }\n",
      "}\n",
      "[2024-10-08 13:37:44,090] root: INFO - {\n",
      "    \"id\": 1010,\n",
      "    \"distance\": 0.9812421202659607,\n",
      "    \"entity\": {\n",
      "        \"section\": \"discuss\",\n",
      "        \"pmid\": 36258252,\n",
      "        \"text\": \"Discussion . Filling out knowledge bases via manual curation can be an arduous and erroneous task . Using manual curation alone becomes impractical as the rate of publications continuously increases . Data programming is a paradigm that uses label functions to speed up the annotation process and can be used to solve this problem . However, creating useful label functions is an obstacle to this paradigm, which takes considerable time . We tested the feasibility of re-using label functions to reduce the number of label functions required for strong prediction performance . Our sampling experiment revealed that adding edge-specific label functions is better than adding off-edge label functions . An exception to this trend is using label functions designed from conceptually related edge types (using GiG label functions to predict CbG sentences and vice versa). Furthermore, broad edge types such as DaG did not follow this trend as we found this edge to be agnostic to any tested label function source . One possibility for this observation is that the \\\"associates\\\" relationship is a general concept that may include other concepts such as Disease (up/down) regulating a Gene (examples highlighted in our annotated sentences). These two results suggest that the transferability of label functions is likely to relate to the nature of the edge type in question, so determining how many label functions will be required to scale across multiple relationship types will depend on how conceptually similar those types are . The discriminator model did not have an apparent positive or negative effect on performance; however, we noticed that performance heavily depended on the annotations provided by the generative model.\"\n",
      "    }\n",
      "}\n",
      "[2024-10-08 13:37:44,090] root: INFO - {\n",
      "    \"id\": 342,\n",
      "    \"distance\": 0.9811674952507019,\n",
      "    \"entity\": {\n",
      "        \"section\": \"abstract\",\n",
      "        \"pmid\": 33262885,\n",
      "        \"text\": \"Gut microbiota produce and modulate the production of neurotransmitters which have been implicated in mental disorders . Neurotransmitters may act as 'matchmaker' between gut microbiota imbalance and mental disorders . Most of the relevant research effort goes into the relationship between gut microbiota and neurotransmitters and the other between neurotransmitters and mental disorders, while few studies collect and analyze the dispersed research results in systematic ways . We therefore gather the dispersed results that in the existing studies into a structured knowledge base for identifying and predicting the potential relationships between gut microbiota and mental disorders . In this study, we propose to construct a gut microbiota knowledge graph for mental disorder, which named as MiKG4MD . It is extendable by linking to future ontologies by just adding new relationships between existing information and new entities . This extendibility is emphasized for the integration with existing popular ontologies/terminologies, e.g . UMLS, MeSH, and KEGG . We demonstrate the performance of MiKG4MD with three SPARQL query test cases . Results show that the MiKG4MD knowledge graph is an effective method to predict the relationships between gut microbiota and mental disorders.\"\n",
      "    }\n",
      "}\n",
      "[2024-10-08 13:37:44,090] root: INFO - {\n",
      "    \"id\": 436,\n",
      "    \"distance\": 0.9811376333236694,\n",
      "    \"entity\": {\n",
      "        \"section\": \"intro\",\n",
      "        \"pmid\": 29490008,\n",
      "        \"text\": \"Because EBC is symmetric with respect to entity pairs and patterns, it can also be applied to cluster the patterns themselves, an approach we follow in this paper . 2.4 Dependency paths as patterns . Applying EBC, or indeed any distributional semantics algorithm, to assess relational similarity requires us to define what constitutes a 'pattern' that connects pairs of entities in the text . For our purposes, a pattern is a structure called a dependency path . Dependency paths are produced automatically using the Stanford dependency parser . The input to the parser is a raw Medline sentence, and the output is a dependency graph . A dependency graph (Fig . 1) is one way to represent the grammatical architecture of a sentence; the nodes are words, and the edges are grammatical dependencies (grammatical relationships between pairs of words, described in detail in). A dependency path is a path through a dependency graph that connects two entities . Focusing on the dependency path helps prune out irrelevant terms and phrases and focus the algorithm's attention on the part of the sentence directly relevant to the relationship between the two entities . It is possible for a single sentence to generate multiple dependency paths if more than two entity names are present in the sentence.\"\n",
      "    }\n",
      "}\n",
      "[2024-10-08 13:37:44,091] root: INFO - {\n",
      "    \"id\": 435,\n",
      "    \"distance\": 0.9811376333236694,\n",
      "    \"entity\": {\n",
      "        \"section\": \"intro\",\n",
      "        \"pmid\": 29490008,\n",
      "        \"text\": \"Importantly, they have also been used to model relationships between pairs of entities, a type of similarity ('relational similarity') distinct from properties of the entities themselves . Several papers in the distributional semantics literature have examined relational similarity outside the biomedical domain . Models that assess relational similarity typically operate on a matrix where the rows are pairs of entities (e.g . drug-gene pairs, chemical-gene pairs) and the columns are patterns that connect the entity pairs in the text (Section 2.4). Different methods may focus on the rows, columns, or both . Some cluster patterns in the text to discover groups of entity pairs that are related in similar ways, while others use the entity pairs to group the patterns . Some methods, like EBC (Section 2.3), group both patterns and entity pairs at once . 2.3 Ensemble Biclustering for Classification . Ensemble Biclustering for Classification (EBC) is a published distributional semantics method based on ensemble biclustering that has been shown to identify biomedical entity pairs expressing a certain type of relationship based on very few examples . It can be applied in an unsupervised fashion to generate a semantic 'distance' for the relationships between any two pairs of entities, similar to the cosine distance between word vectors in . Combining EBC with hierarchical clustering produces a dendrogram of entity pairs that, at least in the case of drug-gene pairs, separates into recognizable groups (proteins that metabolize drugs, drugs that inhibit proteins, etc .).\"\n",
      "    }\n",
      "}\n",
      "[2024-10-08 13:37:44,091] root: INFO - {\n",
      "    \"id\": 434,\n",
      "    \"distance\": 0.9811376333236694,\n",
      "    \"entity\": {\n",
      "        \"section\": \"intro\",\n",
      "        \"pmid\": 29490008,\n",
      "        \"text\": \"In earlier work, we showed that a distributional semantics algorithm called EBC could be combined with hierarchical clustering to derive clusters of drug-gene pairs that were related in similar ways . In this paper, we apply the same algorithm to cluster textual descriptions into classes, grouping descriptions of chemical-gene, gene-gene, gene-phenotype and chemical-phenotype relationships into 'themes' . We then map thousands of natural language descriptions to one or more of these themes, including a quantitative score that represents the strength of the mapping . The result is a labeled, weighted network of biomedical relationships for all Medline abstracts . We compare our themes to known relationships from several biomedical databases, and provide the full network on Zenodo (https: //zenodo.org/record/1035500). 2 Background . 2.1 Biomedical relation extraction and curation . Biomedical relation extraction has a long history, and many authors have suggested that the automated extraction of structured relationships from the literature can expedite database curation . However, relation extraction typically begins with a predefined schema: a set of one or more relationship classes onto which natural language descriptions are mapped . Sometimes the focus is simply to learn whether a particular sentence describes a relationship or not . Our approach uses distributional semantics both to learn a schema and to map diverse surface forms onto relational classes . It draws from ideas in biomedical ontology learning and entailment recognition as well as relation extraction . 2.2 Distributional semantics for relation extraction . While word models have dominated the distributional semantics literature, distributional approaches have also been used to build representations of longer stretches of text such as phrases, sentences, and documents (Le and Mikolov, 2014).\"\n",
      "    }\n",
      "}\n",
      "[2024-10-08 13:37:44,091] root: INFO - {\n",
      "    \"id\": 433,\n",
      "    \"distance\": 0.9811376333236694,\n",
      "    \"entity\": {\n",
      "        \"section\": \"intro\",\n",
      "        \"pmid\": 29490008,\n",
      "        \"text\": \"1 Introduction . The network of interactions among biomedical entities: chemicals, genes and phenotypes: has long been of interest to biomedical researchers . Over the years, scientific curators have painstakingly excavated these relationships from the unstructured text of research articles, translating natural language descriptions into structured, machine-computable data . Manual curation provides researchers and clinicians with cross-sectional, domain-specific views of the literature and is responsible for such valuable resources as PharmGKB, OMIM and DrugBank . Structured relationships offer insights into the mechanisms behind important higher-order relationships, such as drug-drug interactions . Combining them with an appropriate inferential model can also generate predictions of entirely new relationships, an approach called 'literature-based discovery' . As the literature grows, however, manual curation becomes increasingly time-consuming and expensive . It also limits the nature of questions we can ask of the literature to those for which substantial personnel and funding are available . Curation maps diverse natural language descriptions onto a set of discrete, structured categories . Recent work in natural language processing has led to a class of methods, falling under the umbrella term 'distributional semantics', that perform a similar task using large corpora in place of human experts: these methods assess the semantic similarity of various terms by examining how they are used in context . Clustering words and phrases based on distributional similarity groups terms with similar meaning, a feature that parallels the basic semantic mapping curators perform in their minds . Although most distributional semantics algorithms focus on words and phrases, they have also been applied to relationships (Section 2.1).\"\n",
      "    }\n",
      "}\n",
      "[2024-10-08 13:37:44,091] root: INFO - {\n",
      "    \"id\": 935,\n",
      "    \"distance\": 0.9806835651397705,\n",
      "    \"entity\": {\n",
      "        \"section\": \"concl\",\n",
      "        \"pmid\": 36347868,\n",
      "        \"text\": \"Conclusion . Current literature on MGB-axis diseases contains a wealth of potential relations between the use of pre-/probiotics and the treatment of these diseases . To leverage this information, we need to perform queries on the relational data of entities, attributes, and concepts across various literature datasets . Data in the literature, however, is structured for human reading rather than machine access . This research reduces the gap between human-readable and machine-accessible data sources by developing a knowledge graph based on two complementary knowledge bases: a manually curated ppstatement knowledge base with rich detailed annotations, and an automatically generated ppconcept knowledge base with broadly covered concepts . We designed four query cases to validate the performance of the developed knowledge graph . The results of executing these query cases show that our two-level PPKG can be used to retrieve potential relations between pre-/probiotics usage and the treatment of MGB-axis diseases . Users can use the PPKG to ask questions at different levels of detail, from very general (like \\\"which probiotics benefit mental health\\\") to completely specific (e.g . \\\"does B. bifidum have an effect on BDNF\\\"). Finally, we presented how our knowledge graph technology can be used to discover novel relations, which can lead to new ideas for MGB-axis disease treatment with probiotics and/or prebiotics . Our approach for constructing a two-level knowledge graph may be useful for other diseases as well, while the query cases (and query codes) included in this work should be helpful for retrieving the associations for such other diseases of interest.\"\n",
      "    }\n",
      "}\n",
      "[2024-10-08 13:37:44,092] root: INFO - {\n",
      "    \"id\": 711,\n",
      "    \"distance\": 0.9806126356124878,\n",
      "    \"entity\": {\n",
      "        \"section\": \"intro\",\n",
      "        \"pmid\": 33175089,\n",
      "        \"text\": \"1 Introduction . In the absence of effective medications for COVID-19, there is an urgent need to identify drugs that can combat this ongoing pandemic . This task can be accomplished most rapidly by repurposing the existing medications . Biomedical knowledge graphs such as Reasoning Over Biomedical Objects linked in Knowledge Oriented Pathways (ROBOKOP) provide an efficient way to identify potential candidate drugs by making inferences on the relationships between knowledge graph nodes . We have merged the ROBOKOP knowledge graph with the new supply of COVID-19-related information from recent publications and other knowledge sources to form COVID-KOP.\"\n",
      "    }\n",
      "}\n",
      "[2024-10-08 13:37:44,092] root: INFO - {\n",
      "    \"id\": 256,\n",
      "    \"distance\": 0.9805678129196167,\n",
      "    \"entity\": {\n",
      "        \"section\": \"title\",\n",
      "        \"pmid\": 31413325,\n",
      "        \"text\": \"HENA, heterogeneous network-based data set for Alzheimer's disease.\"\n",
      "    }\n",
      "}\n",
      "[2024-10-08 13:37:44,092] root: INFO - Complete.\n"
     ]
    }
   ],
   "source": [
    "import os\n",
    "path_run_search = os.path.join(path_to_repo, 'run_search.py')\n",
    "! python \"{path_run_search}\" -c {path_config} -q \"{vector_query}\""
   ]
  },
  {
   "cell_type": "code",
   "execution_count": 3,
   "metadata": {},
   "outputs": [
    {
     "name": "stdout",
     "output_type": "stream",
     "text": [
      "Warning: run_query.py imported as a module\n"
     ]
    }
   ],
   "source": [
    "# let's try this \n",
    "from run_search import main"
   ]
  },
  {
   "cell_type": "code",
   "execution_count": 6,
   "metadata": {},
   "outputs": [
    {
     "name": "stdout",
     "output_type": "stream",
     "text": [
      "Path to config file: /users/anglup/GitHub/pubmed-rag/config.yaml\n",
      "Loading config params ... \n",
      "Configuration: {'pmid file path': 'notebooks/data/test_pmid_list.csv', 'biocjson output path': 'biocjson', 'max_tokens': 300, 'transformer_model': 'microsoft/BiomedNLP-PubMedBERT-base-uncased-abstract-fulltext', 'db name': '/users/anglup/github/pubmed-rag/demo.db', 'tsne': 'tsne.png', 'n_results': 10}\n",
      "Accessing /users/anglup/github/pubmed-rag/demo.db\n",
      "Loading model microsoft/BiomedNLP-PubMedBERT-base-uncased-abstract-fulltext from HuggingFace\n"
     ]
    },
    {
     "name": "stderr",
     "output_type": "stream",
     "text": [
      "/Users/anglup/Library/Caches/pypoetry/virtualenvs/pubmed-rag-iB5Z1S4t-py3.11/lib/python3.11/site-packages/transformers/tokenization_utils_base.py:1601: FutureWarning: `clean_up_tokenization_spaces` was not set. It will be set to `True` by default. This behavior will be depracted in transformers v4.45, and will be then set to `False` by default. For more details check this issue: https://github.com/huggingface/transformers/issues/31884\n",
      "  warnings.warn(\n"
     ]
    },
    {
     "name": "stdout",
     "output_type": "stream",
     "text": [
      "Embedding query: \n",
      "what nodes and edges should be used for a knowledge graph about the gut microbiome?\n",
      "\n",
      "Searching against vector database\n"
     ]
    }
   ],
   "source": [
    "results = main(\n",
    "    path_config,\n",
    "    vector_query,\n",
    ")"
   ]
  },
  {
   "cell_type": "code",
   "execution_count": 7,
   "metadata": {},
   "outputs": [],
   "source": [
    "import json"
   ]
  },
  {
   "cell_type": "code",
   "execution_count": 8,
   "metadata": {},
   "outputs": [
    {
     "name": "stdout",
     "output_type": "stream",
     "text": [
      "{\n",
      "    \"id\": 1011,\n",
      "    \"distance\": 0.9812421202659607,\n",
      "    \"entity\": {\n",
      "        \"section\": \"discuss\",\n",
      "        \"pmid\": 36258252,\n",
      "        \"text\": \"This pattern suggests a focus on label function construction and generative model training may be key steps to focus on in future work . Although we found that label functions cannot be re-used across all edge types with the standard task framing, strategies like multitask or transfer learning may make multi-label-function efforts more successful.\"\n",
      "    }\n",
      "}\n",
      "{\n",
      "    \"id\": 1010,\n",
      "    \"distance\": 0.9812421202659607,\n",
      "    \"entity\": {\n",
      "        \"section\": \"discuss\",\n",
      "        \"pmid\": 36258252,\n",
      "        \"text\": \"Discussion . Filling out knowledge bases via manual curation can be an arduous and erroneous task . Using manual curation alone becomes impractical as the rate of publications continuously increases . Data programming is a paradigm that uses label functions to speed up the annotation process and can be used to solve this problem . However, creating useful label functions is an obstacle to this paradigm, which takes considerable time . We tested the feasibility of re-using label functions to reduce the number of label functions required for strong prediction performance . Our sampling experiment revealed that adding edge-specific label functions is better than adding off-edge label functions . An exception to this trend is using label functions designed from conceptually related edge types (using GiG label functions to predict CbG sentences and vice versa). Furthermore, broad edge types such as DaG did not follow this trend as we found this edge to be agnostic to any tested label function source . One possibility for this observation is that the \\\"associates\\\" relationship is a general concept that may include other concepts such as Disease (up/down) regulating a Gene (examples highlighted in our annotated sentences). These two results suggest that the transferability of label functions is likely to relate to the nature of the edge type in question, so determining how many label functions will be required to scale across multiple relationship types will depend on how conceptually similar those types are . The discriminator model did not have an apparent positive or negative effect on performance; however, we noticed that performance heavily depended on the annotations provided by the generative model.\"\n",
      "    }\n",
      "}\n",
      "{\n",
      "    \"id\": 342,\n",
      "    \"distance\": 0.9811674952507019,\n",
      "    \"entity\": {\n",
      "        \"section\": \"abstract\",\n",
      "        \"pmid\": 33262885,\n",
      "        \"text\": \"Gut microbiota produce and modulate the production of neurotransmitters which have been implicated in mental disorders . Neurotransmitters may act as 'matchmaker' between gut microbiota imbalance and mental disorders . Most of the relevant research effort goes into the relationship between gut microbiota and neurotransmitters and the other between neurotransmitters and mental disorders, while few studies collect and analyze the dispersed research results in systematic ways . We therefore gather the dispersed results that in the existing studies into a structured knowledge base for identifying and predicting the potential relationships between gut microbiota and mental disorders . In this study, we propose to construct a gut microbiota knowledge graph for mental disorder, which named as MiKG4MD . It is extendable by linking to future ontologies by just adding new relationships between existing information and new entities . This extendibility is emphasized for the integration with existing popular ontologies/terminologies, e.g . UMLS, MeSH, and KEGG . We demonstrate the performance of MiKG4MD with three SPARQL query test cases . Results show that the MiKG4MD knowledge graph is an effective method to predict the relationships between gut microbiota and mental disorders.\"\n",
      "    }\n",
      "}\n",
      "{\n",
      "    \"id\": 436,\n",
      "    \"distance\": 0.9811376333236694,\n",
      "    \"entity\": {\n",
      "        \"section\": \"intro\",\n",
      "        \"pmid\": 29490008,\n",
      "        \"text\": \"Because EBC is symmetric with respect to entity pairs and patterns, it can also be applied to cluster the patterns themselves, an approach we follow in this paper . 2.4 Dependency paths as patterns . Applying EBC, or indeed any distributional semantics algorithm, to assess relational similarity requires us to define what constitutes a 'pattern' that connects pairs of entities in the text . For our purposes, a pattern is a structure called a dependency path . Dependency paths are produced automatically using the Stanford dependency parser . The input to the parser is a raw Medline sentence, and the output is a dependency graph . A dependency graph (Fig . 1) is one way to represent the grammatical architecture of a sentence; the nodes are words, and the edges are grammatical dependencies (grammatical relationships between pairs of words, described in detail in). A dependency path is a path through a dependency graph that connects two entities . Focusing on the dependency path helps prune out irrelevant terms and phrases and focus the algorithm's attention on the part of the sentence directly relevant to the relationship between the two entities . It is possible for a single sentence to generate multiple dependency paths if more than two entity names are present in the sentence.\"\n",
      "    }\n",
      "}\n",
      "{\n",
      "    \"id\": 435,\n",
      "    \"distance\": 0.9811376333236694,\n",
      "    \"entity\": {\n",
      "        \"section\": \"intro\",\n",
      "        \"pmid\": 29490008,\n",
      "        \"text\": \"Importantly, they have also been used to model relationships between pairs of entities, a type of similarity ('relational similarity') distinct from properties of the entities themselves . Several papers in the distributional semantics literature have examined relational similarity outside the biomedical domain . Models that assess relational similarity typically operate on a matrix where the rows are pairs of entities (e.g . drug-gene pairs, chemical-gene pairs) and the columns are patterns that connect the entity pairs in the text (Section 2.4). Different methods may focus on the rows, columns, or both . Some cluster patterns in the text to discover groups of entity pairs that are related in similar ways, while others use the entity pairs to group the patterns . Some methods, like EBC (Section 2.3), group both patterns and entity pairs at once . 2.3 Ensemble Biclustering for Classification . Ensemble Biclustering for Classification (EBC) is a published distributional semantics method based on ensemble biclustering that has been shown to identify biomedical entity pairs expressing a certain type of relationship based on very few examples . It can be applied in an unsupervised fashion to generate a semantic 'distance' for the relationships between any two pairs of entities, similar to the cosine distance between word vectors in . Combining EBC with hierarchical clustering produces a dendrogram of entity pairs that, at least in the case of drug-gene pairs, separates into recognizable groups (proteins that metabolize drugs, drugs that inhibit proteins, etc .).\"\n",
      "    }\n",
      "}\n",
      "{\n",
      "    \"id\": 434,\n",
      "    \"distance\": 0.9811376333236694,\n",
      "    \"entity\": {\n",
      "        \"section\": \"intro\",\n",
      "        \"pmid\": 29490008,\n",
      "        \"text\": \"In earlier work, we showed that a distributional semantics algorithm called EBC could be combined with hierarchical clustering to derive clusters of drug-gene pairs that were related in similar ways . In this paper, we apply the same algorithm to cluster textual descriptions into classes, grouping descriptions of chemical-gene, gene-gene, gene-phenotype and chemical-phenotype relationships into 'themes' . We then map thousands of natural language descriptions to one or more of these themes, including a quantitative score that represents the strength of the mapping . The result is a labeled, weighted network of biomedical relationships for all Medline abstracts . We compare our themes to known relationships from several biomedical databases, and provide the full network on Zenodo (https: //zenodo.org/record/1035500). 2 Background . 2.1 Biomedical relation extraction and curation . Biomedical relation extraction has a long history, and many authors have suggested that the automated extraction of structured relationships from the literature can expedite database curation . However, relation extraction typically begins with a predefined schema: a set of one or more relationship classes onto which natural language descriptions are mapped . Sometimes the focus is simply to learn whether a particular sentence describes a relationship or not . Our approach uses distributional semantics both to learn a schema and to map diverse surface forms onto relational classes . It draws from ideas in biomedical ontology learning and entailment recognition as well as relation extraction . 2.2 Distributional semantics for relation extraction . While word models have dominated the distributional semantics literature, distributional approaches have also been used to build representations of longer stretches of text such as phrases, sentences, and documents (Le and Mikolov, 2014).\"\n",
      "    }\n",
      "}\n",
      "{\n",
      "    \"id\": 433,\n",
      "    \"distance\": 0.9811376333236694,\n",
      "    \"entity\": {\n",
      "        \"section\": \"intro\",\n",
      "        \"pmid\": 29490008,\n",
      "        \"text\": \"1 Introduction . The network of interactions among biomedical entities: chemicals, genes and phenotypes: has long been of interest to biomedical researchers . Over the years, scientific curators have painstakingly excavated these relationships from the unstructured text of research articles, translating natural language descriptions into structured, machine-computable data . Manual curation provides researchers and clinicians with cross-sectional, domain-specific views of the literature and is responsible for such valuable resources as PharmGKB, OMIM and DrugBank . Structured relationships offer insights into the mechanisms behind important higher-order relationships, such as drug-drug interactions . Combining them with an appropriate inferential model can also generate predictions of entirely new relationships, an approach called 'literature-based discovery' . As the literature grows, however, manual curation becomes increasingly time-consuming and expensive . It also limits the nature of questions we can ask of the literature to those for which substantial personnel and funding are available . Curation maps diverse natural language descriptions onto a set of discrete, structured categories . Recent work in natural language processing has led to a class of methods, falling under the umbrella term 'distributional semantics', that perform a similar task using large corpora in place of human experts: these methods assess the semantic similarity of various terms by examining how they are used in context . Clustering words and phrases based on distributional similarity groups terms with similar meaning, a feature that parallels the basic semantic mapping curators perform in their minds . Although most distributional semantics algorithms focus on words and phrases, they have also been applied to relationships (Section 2.1).\"\n",
      "    }\n",
      "}\n",
      "{\n",
      "    \"id\": 935,\n",
      "    \"distance\": 0.9806835651397705,\n",
      "    \"entity\": {\n",
      "        \"section\": \"concl\",\n",
      "        \"pmid\": 36347868,\n",
      "        \"text\": \"Conclusion . Current literature on MGB-axis diseases contains a wealth of potential relations between the use of pre-/probiotics and the treatment of these diseases . To leverage this information, we need to perform queries on the relational data of entities, attributes, and concepts across various literature datasets . Data in the literature, however, is structured for human reading rather than machine access . This research reduces the gap between human-readable and machine-accessible data sources by developing a knowledge graph based on two complementary knowledge bases: a manually curated ppstatement knowledge base with rich detailed annotations, and an automatically generated ppconcept knowledge base with broadly covered concepts . We designed four query cases to validate the performance of the developed knowledge graph . The results of executing these query cases show that our two-level PPKG can be used to retrieve potential relations between pre-/probiotics usage and the treatment of MGB-axis diseases . Users can use the PPKG to ask questions at different levels of detail, from very general (like \\\"which probiotics benefit mental health\\\") to completely specific (e.g . \\\"does B. bifidum have an effect on BDNF\\\"). Finally, we presented how our knowledge graph technology can be used to discover novel relations, which can lead to new ideas for MGB-axis disease treatment with probiotics and/or prebiotics . Our approach for constructing a two-level knowledge graph may be useful for other diseases as well, while the query cases (and query codes) included in this work should be helpful for retrieving the associations for such other diseases of interest.\"\n",
      "    }\n",
      "}\n",
      "{\n",
      "    \"id\": 711,\n",
      "    \"distance\": 0.9806126356124878,\n",
      "    \"entity\": {\n",
      "        \"section\": \"intro\",\n",
      "        \"pmid\": 33175089,\n",
      "        \"text\": \"1 Introduction . In the absence of effective medications for COVID-19, there is an urgent need to identify drugs that can combat this ongoing pandemic . This task can be accomplished most rapidly by repurposing the existing medications . Biomedical knowledge graphs such as Reasoning Over Biomedical Objects linked in Knowledge Oriented Pathways (ROBOKOP) provide an efficient way to identify potential candidate drugs by making inferences on the relationships between knowledge graph nodes . We have merged the ROBOKOP knowledge graph with the new supply of COVID-19-related information from recent publications and other knowledge sources to form COVID-KOP.\"\n",
      "    }\n",
      "}\n",
      "{\n",
      "    \"id\": 256,\n",
      "    \"distance\": 0.9805678129196167,\n",
      "    \"entity\": {\n",
      "        \"section\": \"title\",\n",
      "        \"pmid\": 31413325,\n",
      "        \"text\": \"HENA, heterogeneous network-based data set for Alzheimer's disease.\"\n",
      "    }\n",
      "}\n"
     ]
    }
   ],
   "source": [
    "for x in (results):\n",
    "    print(json.dumps(x, indent=4))"
   ]
  }
 ],
 "metadata": {
  "kernelspec": {
   "display_name": "pubmed-rag-iB5Z1S4t-py3.11",
   "language": "python",
   "name": "python3"
  },
  "language_info": {
   "codemirror_mode": {
    "name": "ipython",
    "version": 3
   },
   "file_extension": ".py",
   "mimetype": "text/x-python",
   "name": "python",
   "nbconvert_exporter": "python",
   "pygments_lexer": "ipython3",
   "version": "3.11.0"
  }
 },
 "nbformat": 4,
 "nbformat_minor": 2
}
