{
 "cells": [
  {
   "cell_type": "code",
   "execution_count": 1,
   "metadata": {},
   "outputs": [],
   "source": [
    "# imports\n",
    "import pandas as pd "
   ]
  },
  {
   "cell_type": "markdown",
   "metadata": {},
   "source": [
    "## Reading in data"
   ]
  },
  {
   "cell_type": "code",
   "execution_count": 2,
   "metadata": {},
   "outputs": [
    {
     "data": {
      "text/html": [
       "<div>\n",
       "<style scoped>\n",
       "    .dataframe tbody tr th:only-of-type {\n",
       "        vertical-align: middle;\n",
       "    }\n",
       "\n",
       "    .dataframe tbody tr th {\n",
       "        vertical-align: top;\n",
       "    }\n",
       "\n",
       "    .dataframe thead th {\n",
       "        text-align: right;\n",
       "    }\n",
       "</style>\n",
       "<table border=\"1\" class=\"dataframe\">\n",
       "  <thead>\n",
       "    <tr style=\"text-align: right;\">\n",
       "      <th></th>\n",
       "      <th>name</th>\n",
       "      <th>doi</th>\n",
       "      <th>arxiv</th>\n",
       "      <th>pmid</th>\n",
       "      <th>publicationDate</th>\n",
       "      <th>title</th>\n",
       "      <th>authors</th>\n",
       "      <th>abstract</th>\n",
       "      <th>keywords</th>\n",
       "      <th>meshTerms</th>\n",
       "    </tr>\n",
       "  </thead>\n",
       "  <tbody>\n",
       "    <tr>\n",
       "      <th>0</th>\n",
       "      <td>Sun2014</td>\n",
       "      <td>10.1039/C4IB00122B</td>\n",
       "      <td>NaN</td>\n",
       "      <td>25133803.0</td>\n",
       "      <td>2014-08-18</td>\n",
       "      <td>The integrated disease network</td>\n",
       "      <td>Kai Sun and Natalie Buchan and Chris Larminie ...</td>\n",
       "      <td>The growing body of transcriptomic, proteomic,...</td>\n",
       "      <td>\"phenotype, crohn's disease, heterogeneity, ge...</td>\n",
       "      <td>['Computational Biology / methods', 'Databases...</td>\n",
       "    </tr>\n",
       "    <tr>\n",
       "      <th>1</th>\n",
       "      <td>Ernst2015</td>\n",
       "      <td>10.1186/s12859-015-0549-5</td>\n",
       "      <td>NaN</td>\n",
       "      <td>25971816.0</td>\n",
       "      <td>2015-05-14</td>\n",
       "      <td>KnowLife: a versatile approach for constructin...</td>\n",
       "      <td>Patrick Ernst and Amy Siu and Gerhard Weikum</td>\n",
       "      <td>Background: Biomedical knowledge bases (KB's) ...</td>\n",
       "      <td>['Biomedical text mining','knowledge base','re...</td>\n",
       "      <td>['Biomedical Research', 'Humans', 'Information...</td>\n",
       "    </tr>\n",
       "    <tr>\n",
       "      <th>2</th>\n",
       "      <td>Himmelstein2015</td>\n",
       "      <td>10.1371/journal.pcbi.1004259</td>\n",
       "      <td>NaN</td>\n",
       "      <td>26158728.0</td>\n",
       "      <td>2015-07-09</td>\n",
       "      <td>Heterogeneous Network Edge Prediction: A Data ...</td>\n",
       "      <td>Daniel Himmelstein and Serio Baranzini</td>\n",
       "      <td>The first decade of Genome Wide Association St...</td>\n",
       "      <td>NaN</td>\n",
       "      <td>Algorithms\\nAnimals\\nChromosome Mapping / meth...</td>\n",
       "    </tr>\n",
       "    <tr>\n",
       "      <th>3</th>\n",
       "      <td>Himmelstein2017</td>\n",
       "      <td>10.7554/eLife.26726</td>\n",
       "      <td>10.1101/087619v3</td>\n",
       "      <td>28936969.0</td>\n",
       "      <td>2017-09-22</td>\n",
       "      <td>Systematic integration of biomedical knowledge...</td>\n",
       "      <td>Daniel Scott Himmelstein and Antoine Lizee and...</td>\n",
       "      <td>The ability to computationally predict whether...</td>\n",
       "      <td>NaN</td>\n",
       "      <td>Computational Biology / methods*\\nDrug Discove...</td>\n",
       "    </tr>\n",
       "    <tr>\n",
       "      <th>4</th>\n",
       "      <td>Martinez2015</td>\n",
       "      <td>10.1016/j.artmed.2014.11.003</td>\n",
       "      <td>NaN</td>\n",
       "      <td>25704113.0</td>\n",
       "      <td>2015-01-13</td>\n",
       "      <td>DrugNet: Network-based drug–disease prioritiza...</td>\n",
       "      <td>Víctor Martínez and Carmen Navarro and Carlos ...</td>\n",
       "      <td>Objective: Computational drug repositioning ca...</td>\n",
       "      <td>Data integration; Disease networks; Drug repos...</td>\n",
       "      <td>Area Under Curve\\nComputational Biology*\\nComp...</td>\n",
       "    </tr>\n",
       "  </tbody>\n",
       "</table>\n",
       "</div>"
      ],
      "text/plain": [
       "              name                            doi             arxiv  \\\n",
       "0          Sun2014             10.1039/C4IB00122B               NaN   \n",
       "1        Ernst2015      10.1186/s12859-015-0549-5               NaN   \n",
       "2  Himmelstein2015   10.1371/journal.pcbi.1004259               NaN   \n",
       "3  Himmelstein2017            10.7554/eLife.26726  10.1101/087619v3   \n",
       "4     Martinez2015  10.1016/j.artmed.2014.11.003                NaN   \n",
       "\n",
       "         pmid publicationDate  \\\n",
       "0  25133803.0      2014-08-18   \n",
       "1  25971816.0      2015-05-14   \n",
       "2  26158728.0      2015-07-09   \n",
       "3  28936969.0      2017-09-22   \n",
       "4  25704113.0      2015-01-13   \n",
       "\n",
       "                                               title  \\\n",
       "0                     The integrated disease network   \n",
       "1  KnowLife: a versatile approach for constructin...   \n",
       "2  Heterogeneous Network Edge Prediction: A Data ...   \n",
       "3  Systematic integration of biomedical knowledge...   \n",
       "4  DrugNet: Network-based drug–disease prioritiza...   \n",
       "\n",
       "                                             authors  \\\n",
       "0  Kai Sun and Natalie Buchan and Chris Larminie ...   \n",
       "1       Patrick Ernst and Amy Siu and Gerhard Weikum   \n",
       "2             Daniel Himmelstein and Serio Baranzini   \n",
       "3  Daniel Scott Himmelstein and Antoine Lizee and...   \n",
       "4  Víctor Martínez and Carmen Navarro and Carlos ...   \n",
       "\n",
       "                                            abstract  \\\n",
       "0  The growing body of transcriptomic, proteomic,...   \n",
       "1  Background: Biomedical knowledge bases (KB's) ...   \n",
       "2  The first decade of Genome Wide Association St...   \n",
       "3  The ability to computationally predict whether...   \n",
       "4  Objective: Computational drug repositioning ca...   \n",
       "\n",
       "                                            keywords  \\\n",
       "0  \"phenotype, crohn's disease, heterogeneity, ge...   \n",
       "1  ['Biomedical text mining','knowledge base','re...   \n",
       "2                                                NaN   \n",
       "3                                                NaN   \n",
       "4  Data integration; Disease networks; Drug repos...   \n",
       "\n",
       "                                           meshTerms  \n",
       "0  ['Computational Biology / methods', 'Databases...  \n",
       "1  ['Biomedical Research', 'Humans', 'Information...  \n",
       "2  Algorithms\\nAnimals\\nChromosome Mapping / meth...  \n",
       "3  Computational Biology / methods*\\nDrug Discove...  \n",
       "4  Area Under Curve\\nComputational Biology*\\nComp...  "
      ]
     },
     "execution_count": 2,
     "metadata": {},
     "output_type": "execute_result"
    }
   ],
   "source": [
    "# reading in the publication list\n",
    "excel_file = 'data/bkg registry nelists.xlsx'\n",
    "pubs = pd.read_excel(excel_file, sheet_name='Publication')\n",
    "# check\n",
    "pubs.head()"
   ]
  },
  {
   "cell_type": "code",
   "execution_count": 3,
   "metadata": {},
   "outputs": [
    {
     "name": "stdout",
     "output_type": "stream",
     "text": [
      "<class 'pandas.core.frame.DataFrame'>\n",
      "RangeIndex: 87 entries, 0 to 86\n",
      "Data columns (total 10 columns):\n",
      " #   Column           Non-Null Count  Dtype         \n",
      "---  ------           --------------  -----         \n",
      " 0   name             87 non-null     object        \n",
      " 1   doi              86 non-null     object        \n",
      " 2   arxiv            11 non-null     object        \n",
      " 3   pmid             76 non-null     float64       \n",
      " 4   publicationDate  87 non-null     datetime64[ns]\n",
      " 5   title            87 non-null     object        \n",
      " 6   authors          86 non-null     object        \n",
      " 7   abstract         87 non-null     object        \n",
      " 8   keywords         45 non-null     object        \n",
      " 9   meshTerms        65 non-null     object        \n",
      "dtypes: datetime64[ns](1), float64(1), object(8)\n",
      "memory usage: 6.9+ KB\n"
     ]
    }
   ],
   "source": [
    "pubs.info()"
   ]
  },
  {
   "cell_type": "markdown",
   "metadata": {},
   "source": [
    "## CSV file of pubmed ids"
   ]
  },
  {
   "cell_type": "code",
   "execution_count": 4,
   "metadata": {},
   "outputs": [],
   "source": [
    "all_pmids = pubs['pmid'].dropna().astype(int).astype(str)\n",
    "all_pmids.to_csv('data/test_pmid_list.csv', header=False, index=None)"
   ]
  }
 ],
 "metadata": {
  "kernelspec": {
   "display_name": "pubmed-rag-iB5Z1S4t-py3.11",
   "language": "python",
   "name": "python3"
  },
  "language_info": {
   "codemirror_mode": {
    "name": "ipython",
    "version": 3
   },
   "file_extension": ".py",
   "mimetype": "text/x-python",
   "name": "python",
   "nbconvert_exporter": "python",
   "pygments_lexer": "ipython3",
   "version": "3.11.0"
  }
 },
 "nbformat": 4,
 "nbformat_minor": 2
}
