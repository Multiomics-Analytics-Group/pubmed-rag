{
 "cells": [
  {
   "cell_type": "code",
   "execution_count": 22,
   "metadata": {},
   "outputs": [],
   "source": [
    "import pandas as pd\n",
    "import numpy as np\n",
    "import matplotlib.pyplot as plt\n",
    "from ast import literal_eval\n",
    "import os, sys\n",
    "# sys.path.append('../pubmed_rag')\n",
    "# from utils import get_chunks\n",
    "# from bioc import (\n",
    "#     collapse_sections,\n",
    "#     get_smaller_texts\n",
    "# )\n"
   ]
  },
  {
   "cell_type": "markdown",
   "metadata": {},
   "source": [
    "get the data for the vx db first. \n",
    "\n",
    "Note: The primary key and vector fields use their default names (“id” and “vector”).\n",
    "\n",
    "to insert into vx database need each row as a dictionary"
   ]
  },
  {
   "cell_type": "code",
   "execution_count": 30,
   "metadata": {},
   "outputs": [],
   "source": [
    "# read in\n",
    "filename = '/Users/anglup/GitHub/pubmed-rag/biocjson/tester.csv'\n",
    "df = pd.read_csv(filename, )\n",
    "# rename id and vertex cols\n",
    "df = df.rename(\n",
    "    columns={\n",
    "        'Unnamed: 0':'id',\n",
    "        'embedding':'vertex'\n",
    "    }, \n",
    ")\n",
    "# ensure vertex is a list\n",
    "df['vertex'] = df['vertex'].apply(literal_eval)\n",
    "\n",
    "# sanity check\n",
    "#data.head()\n",
    "\n",
    "# to list of dicts\n",
    "data = df.to_dict(orient='records')"
   ]
  },
  {
   "cell_type": "markdown",
   "metadata": {},
   "source": [
    "to insert into vx database need each row as a dictionary"
   ]
  },
  {
   "cell_type": "code",
   "execution_count": null,
   "metadata": {},
   "outputs": [],
   "source": []
  },
  {
   "cell_type": "code",
   "execution_count": 2,
   "metadata": {},
   "outputs": [],
   "source": [
    "from pymilvus import MilvusClient"
   ]
  },
  {
   "cell_type": "code",
   "execution_count": 4,
   "metadata": {},
   "outputs": [],
   "source": [
    "client = MilvusClient('demo.db')\n",
    "\n",
    "if client.has_collection(collection_name=\"demo_collection\"):\n",
    "    client.drop_collection(collection_name=\"demo_collection\")\n",
    "client.create_collection(\n",
    "    collection_name=\"demo_collection\",\n",
    "    dimension=768,  # The vectors we will use in this demo has 768 dimensions\n",
    ")\n"
   ]
  },
  {
   "cell_type": "code",
   "execution_count": null,
   "metadata": {},
   "outputs": [],
   "source": [
    "res = client.insert(collection_name=\"demo_collection\", data=data)\n",
    "\n",
    "print(res)\n"
   ]
  },
  {
   "cell_type": "code",
   "execution_count": null,
   "metadata": {},
   "outputs": [],
   "source": []
  }
 ],
 "metadata": {
  "kernelspec": {
   "display_name": "pubmed-rag-iB5Z1S4t-py3.11",
   "language": "python",
   "name": "python3"
  },
  "language_info": {
   "codemirror_mode": {
    "name": "ipython",
    "version": 3
   },
   "file_extension": ".py",
   "mimetype": "text/x-python",
   "name": "python",
   "nbconvert_exporter": "python",
   "pygments_lexer": "ipython3",
   "version": "3.11.0"
  }
 },
 "nbformat": 4,
 "nbformat_minor": 2
}
