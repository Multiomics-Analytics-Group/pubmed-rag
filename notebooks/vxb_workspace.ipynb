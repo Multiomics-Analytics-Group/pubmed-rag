{
 "cells": [
  {
   "cell_type": "code",
   "execution_count": 4,
   "metadata": {},
   "outputs": [],
   "source": [
    "import pandas as pd\n",
    "import numpy as np\n",
    "import matplotlib.pyplot as plt\n",
    "from ast import literal_eval\n",
    "import os, sys\n",
    "import json\n",
    "\n",
    "from run_search import find_similar_vectors"
   ]
  },
  {
   "cell_type": "markdown",
   "metadata": {},
   "source": [
    "Using this notebook to develop the prompt for Llama3.1. \n",
    "\n",
    "Requires that the DB already made."
   ]
  },
  {
   "cell_type": "code",
   "execution_count": 2,
   "metadata": {},
   "outputs": [],
   "source": [
    "vector_query = '''\n",
    "what nodes and edges should be used for a knowledge graph that will be used for drug repurposing or target discovery?\n",
    "'''\n",
    "path_config = '/users/anglup/GitHub/pubmed-rag/config.yaml'\n",
    "path_to_repo = '/users/anglup/github/pubmed-rag'"
   ]
  },
  {
   "cell_type": "code",
   "execution_count": 3,
   "metadata": {},
   "outputs": [
    {
     "name": "stdout",
     "output_type": "stream",
     "text": [
      "Path to config file: /users/anglup/GitHub/pubmed-rag/config.yaml\n",
      "Loading config params ... \n",
      "Configuration: {'pmid file path': 'notebooks/data/test_pmid_list.csv', 'biocjson output path': 'biocjson', 'max_tokens': 300, 'transformer_model': 'microsoft/BiomedNLP-PubMedBERT-base-uncased-abstract-fulltext', 'db name': '/users/anglup/github/pubmed-rag/demo.db', 'tsne': 'tsne.png', 'n_results': 10, 'output_dimensions': 768}\n",
      "Accessing /users/anglup/github/pubmed-rag/demo.db\n",
      "Loading model microsoft/BiomedNLP-PubMedBERT-base-uncased-abstract-fulltext from HuggingFace\n"
     ]
    },
    {
     "name": "stderr",
     "output_type": "stream",
     "text": [
      "/Users/anglup/Library/Caches/pypoetry/virtualenvs/pubmed-rag-iB5Z1S4t-py3.11/lib/python3.11/site-packages/transformers/tokenization_utils_base.py:1601: FutureWarning: `clean_up_tokenization_spaces` was not set. It will be set to `True` by default. This behavior will be depracted in transformers v4.45, and will be then set to `False` by default. For more details check this issue: https://github.com/huggingface/transformers/issues/31884\n",
      "  warnings.warn(\n"
     ]
    },
    {
     "name": "stdout",
     "output_type": "stream",
     "text": [
      "Embedding query: \n",
      "what nodes and edges should be used for a knowledge graph that will be used for drug repurposing or target discovery?\n",
      "\n",
      "Searching against vector database\n"
     ]
    }
   ],
   "source": [
    "results = find_similar_vectors(\n",
    "    path_config,\n",
    "    vector_query,\n",
    ")"
   ]
  },
  {
   "cell_type": "code",
   "execution_count": 5,
   "metadata": {},
   "outputs": [
    {
     "name": "stdout",
     "output_type": "stream",
     "text": [
      "{\n",
      "    \"id\": 711,\n",
      "    \"distance\": 0.9874027371406555,\n",
      "    \"entity\": {\n",
      "        \"section\": \"intro\",\n",
      "        \"pmid\": 33175089,\n",
      "        \"text\": \"1 Introduction . In the absence of effective medications for COVID-19, there is an urgent need to identify drugs that can combat this ongoing pandemic . This task can be accomplished most rapidly by repurposing the existing medications . Biomedical knowledge graphs such as Reasoning Over Biomedical Objects linked in Knowledge Oriented Pathways (ROBOKOP) provide an efficient way to identify potential candidate drugs by making inferences on the relationships between knowledge graph nodes . We have merged the ROBOKOP knowledge graph with the new supply of COVID-19-related information from recent publications and other knowledge sources to form COVID-KOP.\"\n",
      "    }\n",
      "}\n",
      "{\n",
      "    \"id\": 1011,\n",
      "    \"distance\": 0.9858823418617249,\n",
      "    \"entity\": {\n",
      "        \"section\": \"discuss\",\n",
      "        \"pmid\": 36258252,\n",
      "        \"text\": \"This pattern suggests a focus on label function construction and generative model training may be key steps to focus on in future work . Although we found that label functions cannot be re-used across all edge types with the standard task framing, strategies like multitask or transfer learning may make multi-label-function efforts more successful.\"\n",
      "    }\n",
      "}\n",
      "{\n",
      "    \"id\": 1010,\n",
      "    \"distance\": 0.9858823418617249,\n",
      "    \"entity\": {\n",
      "        \"section\": \"discuss\",\n",
      "        \"pmid\": 36258252,\n",
      "        \"text\": \"Discussion . Filling out knowledge bases via manual curation can be an arduous and erroneous task . Using manual curation alone becomes impractical as the rate of publications continuously increases . Data programming is a paradigm that uses label functions to speed up the annotation process and can be used to solve this problem . However, creating useful label functions is an obstacle to this paradigm, which takes considerable time . We tested the feasibility of re-using label functions to reduce the number of label functions required for strong prediction performance . Our sampling experiment revealed that adding edge-specific label functions is better than adding off-edge label functions . An exception to this trend is using label functions designed from conceptually related edge types (using GiG label functions to predict CbG sentences and vice versa). Furthermore, broad edge types such as DaG did not follow this trend as we found this edge to be agnostic to any tested label function source . One possibility for this observation is that the \\\"associates\\\" relationship is a general concept that may include other concepts such as Disease (up/down) regulating a Gene (examples highlighted in our annotated sentences). These two results suggest that the transferability of label functions is likely to relate to the nature of the edge type in question, so determining how many label functions will be required to scale across multiple relationship types will depend on how conceptually similar those types are . The discriminator model did not have an apparent positive or negative effect on performance; however, we noticed that performance heavily depended on the annotations provided by the generative model.\"\n",
      "    }\n",
      "}\n",
      "{\n",
      "    \"id\": 67,\n",
      "    \"distance\": 0.9858089685440063,\n",
      "    \"entity\": {\n",
      "        \"section\": \"discuss\",\n",
      "        \"pmid\": 28936969,\n",
      "        \"text\": \"However, the predictions made by Hetionet v1.0 represent such substantial relative enrichment over the null that uncovering the correct directionality is a logical next step and worth undertaking . Going forward, advances in automated mining of the scientific literature could enable extraction of precise relationship types at omics scale . Future research should focus on gleaning orthogonal information from data types that are so expansive that computational methods are the only option . Our CuGuCtD feature: measuring whether a compound upregulates the same genes as compounds which treat the disease: is a good example . This metapath was informative by itself (Delta AUROC = 4.4%) but was not selected by the model, despite its orthogonal origin (gene expression) to selected metapaths . Using a more extensive catalog of treatments as the gold standard would be one possible approach to increase the power of feature selection . Integrating more types of information into Hetionet should also be a future priority . The 'network effect' phenomenon suggests that the addition of each new piece of information will enhance the value of Hetionet's existing information . We envision a future where all biological knowledge is encoded into a single hetnet . Hetionet v1.0 was an early attempt, and we hope the strong performance of Project Rephetio in repurposing drugs foreshadows the many applications that will thrive from encoding biology in hetnets.\"\n",
      "    }\n",
      "}\n",
      "{\n",
      "    \"id\": 66,\n",
      "    \"distance\": 0.9858089685440063,\n",
      "    \"entity\": {\n",
      "        \"section\": \"discuss\",\n",
      "        \"pmid\": 28936969,\n",
      "        \"text\": \"However, our model for whether a compound treats a disease focused on 11 metapaths: a small portion of the hundreds of metapaths available . While parsimony aids interpretation, our model did not draw on the weakly-predictive high-throughput data types: which are intriguing for their novelty, scalability, and cost-effectiveness: as much as we had hypothesized . Instead our model selected types of information traditionally considered in pharmacology . However, unlike a pharmacologist whose area of expertise may be limited to a few drug classes, our model was able to predict probabilities of treatment for all 209,168 compound-disease pairs . Furthermore, our model systematically learned the importance of each type of network connectivity . For any compound-disease pair, we now can immediately provide the top network paths supporting its therapeutic efficacy . A traditional pharmacologist may be able to produce a similar explanation, but likely not until spending substantial time researching the compound's pharmacology, the disease's pathophysiology, and the molecular relationships in between . Accordingly, we hope certain predictions will spur further research, such as trials to investigate the off-label use of acamprosate for epilepsy, which is supported by one animal model . As demonstrated by the 15 ictogenic compounds in our top 100 epilepsy predictions, Project Rephetio's predictions can include contraindications in addition to indications . Since many of Hetionet v1.0's relationship types are general (e.g . the Compound-binds-Gene relationship type conflates antagonist with agonist effects), we expect some high scoring predictions to exacerbate rather than treat the disease.\"\n",
      "    }\n",
      "}\n",
      "{\n",
      "    \"id\": 65,\n",
      "    \"distance\": 0.9858089685440063,\n",
      "    \"entity\": {\n",
      "        \"section\": \"discuss\",\n",
      "        \"pmid\": 28936969,\n",
      "        \"text\": \"The weak yet appreciable performance of the Gene-covaries-Gene suggests the synergy between the fields of evolutionary genomics and disease biology . The lower tier included the Gene-participates-Cellular Component metaedge, which may reflect that the relevance of cellular location to pharmacology is highly case dependent and not amenable to systematic profiling . The performance of specific metapaths (Table 3) provides further insight . For example, significant emphasis has been put on the use of transcriptional data for drug repurposing . One common approach has been to identify compounds with opposing transcriptional signatures to a disease . However, several systematic studies report underwhelming performance of this approach: a finding supported by the low performance of the CuGdD and CdGuD metapaths in Project Rephetio . Nonetheless, other transcription-based methods showed some promise . Compounds with similar transcriptional signatures were prone to treating the same disease (CuGuCtD and CdGdCtD metapaths), while compounds with opposing transcriptional signatures were slightly averse to treating the same disease (CuGdCtD and CdGuCtD metapaths). In contrast, diseases with similar transcriptional profiles were not prone to treatment by the same compound (CtDdGuD and CtDuGdD). By comparably assessing the informativeness of different metaedges and metapaths, Project Rephetio aims to guide future research towards promising data types and analyses . One caveat is that omics-scale experimental data will likely play a larger role in developing the next generation of pharmacotherapies . Hence, were performance reevaluated on treatments discovered in the forthcoming decades, the predictive ability of these data types may rise . Encouragingly, most data types were at least weakly informative and hence suitable for further study . Ideally, different data types would provide orthogonal information.\"\n",
      "    }\n",
      "}\n",
      "{\n",
      "    \"id\": 64,\n",
      "    \"distance\": 0.9858089685440063,\n",
      "    \"entity\": {\n",
      "        \"section\": \"discuss\",\n",
      "        \"pmid\": 28936969,\n",
      "        \"text\": \"Compared to the existing mathematical frameworks for multilayer networks that must deal with layers other than type (such as the aspect of time), the primary obligation of hetnet algorithms is to be type aware . One goal of our project has been to unite hetnet research across disciplines . We approached this goal by making Project Rephetio entirely available online and inviting community feedback throughout the process . Integrating every resource into a single interconnected data structure allowed us to assess systematic mechanisms of drug efficacy . Using the max performing metapath to assess the pharmacological utility of a metaedge (Figure 2A), we can divide our relationships into tiers of informativeness . The top tier consists of the types of information traditionally considered by pharmacology: Compound-treats-Disease, Pharmacologic Class-includes-Compound, Compound-resembles-Compound, Disease-resembles-Disease, and Compound-binds-Gene . The upper-middle tier consists of types of information that have been the focus of substantial medical study, but have only recently started to play a bigger role in drug development, namely the metaedges Disease-associates-Gene, Compound-causes-Side Effect, Disease-presents-Symptom, Disease-localizes-Anatomy, and Gene-interacts-Gene . The lower-middle tier contains the transcriptomics metaedges such as Compound-downregulates-Gene, Anatomy-expresses-Gene, Gene regulates Gene, and Disease-downregulates-Gene . Much excitement surrounds these resources due to their high-throughput and genome-wide scope, which offers a route to drug discovery that is less biased by existing knowledge . However, our findings suggest that these resources are only moderately informative of drug efficacy . Other lower-middle tier metaedges were the product of time-intensive biological experimentation, such as Gene-participates-Pathway, Gene-participates-Molecular Function, and Gene-participates-Biological Process . Unlike the top tier resources, this knowledge has historically been pursued for basic science rather than primarily medical applications.\"\n",
      "    }\n",
      "}\n",
      "{\n",
      "    \"id\": 63,\n",
      "    \"distance\": 0.9858089685440063,\n",
      "    \"entity\": {\n",
      "        \"section\": \"discuss\",\n",
      "        \"pmid\": 28936969,\n",
      "        \"text\": \"Discussion . We created Hetionet v1.0 by integrating 29 resources into a single data structure: the hetnet . Consisting of 11 types of nodes and 24 types of relationships, Hetionet v1.0 brings more types of information together than previous leading-studies in biological data integration . Moreover, we strove to create a reusable, extensible, and property-rich network . While all the resources we include are publicly available, their integration was a time-intensive undertaking and required careful consideration of legal barriers to data reuse . Hetionet allows researchers to begin answering integrative questions without having to first spend months processing data . Our public Neo4j instance allows users to immediately interact with Hetionet . Through the Cypher language, users can perform highly specialized graph queries with only a few lines of code . Queries can be executed in the web browser or programmatically from a language with a Neo4j driver . For users that are unfamiliar with Cypher, we include several example queries in a Browser guide . In contrast to traditional REST APIs, our public Neo4j instance provides users with maximal flexibility to construct custom queries by exposing the underlying database . As data has grown more plentiful and diverse, so has the applicability of hetnets . Unfortunately, network science has been naturally fragmented by discipline resulting in relatively slow progress in integrating heterogeneous data . A 2014 analysis identified 78 studies using multilayer networks: a superset of hetnets (heterogeneous information networks) with the potential for additional dimensions, such as time . However, the studies relied on 26 different terms, 9 of which had multiple definitions . Nonetheless, core infrastructure and algorithms for hetnets are emerging.\"\n",
      "    }\n",
      "}\n",
      "{\n",
      "    \"id\": 1265,\n",
      "    \"distance\": 0.9858016967773438,\n",
      "    \"entity\": {\n",
      "        \"section\": \"abstract\",\n",
      "        \"pmid\": 37717042,\n",
      "        \"text\": \"Computational drug repositioning methods have emerged as an attractive and effective solution to find new candidates for existing therapies, reducing the time and cost of drug development . Repositioning methods based on biomedical knowledge graphs typically offer useful supporting biological evidence . This evidence is based on reasoning chains or subgraphs that connect a drug to a disease prediction . However, there are no databases of drug mechanisms that can be used to train and evaluate such methods . Here, we introduce the Drug Mechanism Database (DrugMechDB), a manually curated database that describes drug mechanisms as paths through a knowledge graph . DrugMechDB integrates a diverse range of authoritative free-text resources to describe 4,583 drug indications with 32,249 relationships, representing 14 major biological scales . DrugMechDB can be employed as a benchmark dataset for assessing computational drug repositioning models or as a valuable resource for training such models.\"\n",
      "    }\n",
      "}\n",
      "{\n",
      "    \"id\": 1329,\n",
      "    \"distance\": 0.9857493042945862,\n",
      "    \"entity\": {\n",
      "        \"section\": \"results\",\n",
      "        \"pmid\": 37187795,\n",
      "        \"text\": \"3 Results . While literature and public data resources contain sparse MPXV-related information, our approach has reached out to various resources and built a bridge between the chemical and biological worlds, thus yielding a comprehensive KG . Starting from chemicals associated with MPXV, we were able to identify corresponding assays with bioactivity, target proteins and their biological processes . Moreover, with MPXV and human proteins, we not only summoned knowledge about the aforementioned aspects but also identified chemicals targeting these proteins . Our query from PubChem retrieved 24 chemicals, all of which were successfully mapped to corresponding ChEMBL IDs . Similarly, eight chemicals were retrieved from ChEMBL, out of which six were identical with the PubChem chemicals . The search in UniProt fetched 11 MPXV proteins whereas DISEASES returned 19 human proteins . Using these results as the primer for the KG, we created a KG using ChEMBL and UniProt API . The KG comprised 9117 nodes and 44 516 relationships where we have identified 565 putative drugs targeting human and viral proteins . The full summary of KG statistics is available in Supplementary Figures S1 and S2 . The proteins represented in the KG were further labeled with 'druggability' information using Open Targets (Supplementary Table S1). Additionally, we performed a sequence similarity search for the MPXV proteins and identified human homologs with sequence identity> 35% . These results are provided in Supplementary Table S2 . As there are no Mpox-specific drugs, we tried to identify drugs that were used against similar viruses . Our query to the KG identified 15 drugs that were in different phases of clinical trials.\"\n",
      "    }\n",
      "}\n"
     ]
    }
   ],
   "source": [
    "for x in (results):\n",
    "    print(json.dumps(x, indent=4))"
   ]
  }
 ],
 "metadata": {
  "kernelspec": {
   "display_name": "pubmed-rag-iB5Z1S4t-py3.11",
   "language": "python",
   "name": "python3"
  },
  "language_info": {
   "codemirror_mode": {
    "name": "ipython",
    "version": 3
   },
   "file_extension": ".py",
   "mimetype": "text/x-python",
   "name": "python",
   "nbconvert_exporter": "python",
   "pygments_lexer": "ipython3",
   "version": "3.11.0"
  }
 },
 "nbformat": 4,
 "nbformat_minor": 2
}
